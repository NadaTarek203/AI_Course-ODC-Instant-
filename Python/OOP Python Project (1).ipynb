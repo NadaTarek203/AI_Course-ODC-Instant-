{
 "cells": [
  {
   "cell_type": "code",
   "execution_count": 1,
   "id": "112e0c18",
   "metadata": {},
   "outputs": [],
   "source": [
    "from abc import ABC,abstractmethod #used for abstract class & abstract method\\\n"
   ]
  },
  {
   "cell_type": "code",
   "execution_count": 2,
   "id": "af2d178c",
   "metadata": {},
   "outputs": [],
   "source": [
    "class Person():\n",
    "    def __init__(self): #Constructor\n",
    "        self._name=input(\"please enter your name: \") #Encapsulation\n",
    "        self._age=input(\"Please enter your age: \")\n",
    "        self._gender=input(\"please enter your gender: \")\n",
    "        self.__nationalid=input(\"please enter your national id: \")\n",
    "    def __str__(self):\n",
    "        return \"Name: \"+self._name + '\\n' + \"Age: \"+self._age + '\\n' +\"Gender: \"+self._gender+ '\\n' +\"NID: \"+self.__nationalid"
   ]
  },
  {
   "cell_type": "code",
   "execution_count": 3,
   "id": "9c926361",
   "metadata": {},
   "outputs": [],
   "source": [
    "class Employee(Person,ABC):#multiple inheritance\n",
    "    def __init__(self):\n",
    "        super().__init__\n",
    "        self._salary=input(\"Enter your expected salary: \")\n",
    "    @abstractmethod\n",
    "    def Show_Salary(self):\n",
    "        #print(\"Employee's Salary = \",self._salary) # dlw2ti m4 m7tagenha l2na kda kda abstract f lazm function tania hia eli tst5dmha\n",
    "        pass\n",
    "    "
   ]
  },
  {
   "cell_type": "code",
   "execution_count": 4,
   "id": "65090500",
   "metadata": {},
   "outputs": [],
   "source": [
    "class Manager(Employee): #multi-level inheritance\n",
    "    def Show_Salary(self): #lw 3amla class employee abstract yb2a lazm 23ml body ll function\n",
    "        print(\"Managers Salary = \",self._salary) #Ploymorphism->override"
   ]
  },
  {
   "cell_type": "code",
   "execution_count": 5,
   "id": "98e039f4",
   "metadata": {},
   "outputs": [
    {
     "name": "stdout",
     "output_type": "stream",
     "text": [
      "please enter your name: jj\n",
      "Please enter your age: m\n",
      "please enter your gender: bbv\n",
      "please enter your national id: bn\n",
      "Name: jj\n",
      "Age: m\n",
      "Gender: bbv\n",
      "NID: bn\n"
     ]
    }
   ],
   "source": [
    "p=Person()\n",
    "print(p)"
   ]
  },
  {
   "cell_type": "code",
   "execution_count": 6,
   "id": "d77c355a",
   "metadata": {},
   "outputs": [],
   "source": [
    "#e=Employee() #tol m ana 3amla el class abstract m4 h3rf 23ml object mno "
   ]
  },
  {
   "cell_type": "code",
   "execution_count": 7,
   "id": "8d316d8e",
   "metadata": {},
   "outputs": [],
   "source": [
    "#e.Show_Salary()"
   ]
  },
  {
   "cell_type": "code",
   "execution_count": 8,
   "id": "a43e36ca",
   "metadata": {},
   "outputs": [
    {
     "name": "stdout",
     "output_type": "stream",
     "text": [
      "Enter your expected salary: k\n"
     ]
    }
   ],
   "source": [
    "m=Manager()"
   ]
  },
  {
   "cell_type": "code",
   "execution_count": 9,
   "id": "b952a215",
   "metadata": {},
   "outputs": [
    {
     "name": "stdout",
     "output_type": "stream",
     "text": [
      "Managers Salary =  k\n"
     ]
    }
   ],
   "source": [
    "m.Show_Salary()"
   ]
  },
  {
   "cell_type": "code",
   "execution_count": 10,
   "id": "ac73c5da",
   "metadata": {},
   "outputs": [
    {
     "ename": "TypeError",
     "evalue": "unsupported operand type(s) for *: 'Person' and 'int'",
     "output_type": "error",
     "traceback": [
      "\u001b[1;31m---------------------------------------------------------------------------\u001b[0m",
      "\u001b[1;31mTypeError\u001b[0m                                 Traceback (most recent call last)",
      "Input \u001b[1;32mIn [10]\u001b[0m, in \u001b[0;36m<cell line: 1>\u001b[1;34m()\u001b[0m\n\u001b[1;32m----> 1\u001b[0m \u001b[43mp\u001b[49m\u001b[38;5;241;43m.\u001b[39;49m\u001b[43mproduct\u001b[49m\u001b[43m(\u001b[49m\u001b[38;5;241;43m3\u001b[39;49m\u001b[43m,\u001b[49m\u001b[38;5;241;43m4\u001b[39;49m\u001b[43m)\u001b[49m\n",
      "Input \u001b[1;32mIn [2]\u001b[0m, in \u001b[0;36mPerson.product\u001b[1;34m(a, b, c)\u001b[0m\n\u001b[0;32m     12\u001b[0m \u001b[38;5;28;01mdef\u001b[39;00m \u001b[38;5;21mproduct\u001b[39m(a, b, c):\n\u001b[1;32m---> 13\u001b[0m     p \u001b[38;5;241m=\u001b[39m \u001b[43ma\u001b[49m\u001b[43m \u001b[49m\u001b[38;5;241;43m*\u001b[39;49m\u001b[43m \u001b[49m\u001b[43mb\u001b[49m\u001b[38;5;241m*\u001b[39mc\n\u001b[0;32m     14\u001b[0m     \u001b[38;5;28mprint\u001b[39m(p)\n",
      "\u001b[1;31mTypeError\u001b[0m: unsupported operand type(s) for *: 'Person' and 'int'"
     ]
    }
   ],
   "source": [
    "#p.Details(23,2122)"
   ]
  },
  {
   "cell_type": "code",
   "execution_count": null,
   "id": "b9e272cb",
   "metadata": {},
   "outputs": [],
   "source": [
    "# p.Details(33,4443443,2)"
   ]
  },
  {
   "cell_type": "code",
   "execution_count": null,
   "id": "56de64ef",
   "metadata": {},
   "outputs": [],
   "source": []
  }
 ],
 "metadata": {
  "kernelspec": {
   "display_name": "Python 3 (ipykernel)",
   "language": "python",
   "name": "python3"
  },
  "language_info": {
   "codemirror_mode": {
    "name": "ipython",
    "version": 3
   },
   "file_extension": ".py",
   "mimetype": "text/x-python",
   "name": "python",
   "nbconvert_exporter": "python",
   "pygments_lexer": "ipython3",
   "version": "3.9.12"
  }
 },
 "nbformat": 4,
 "nbformat_minor": 5
}
