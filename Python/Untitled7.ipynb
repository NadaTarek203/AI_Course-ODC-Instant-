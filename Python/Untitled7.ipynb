{
 "cells": [
  {
   "attachments": {
    "download.png": {
     "image/png": "[encoded data removed]"
    }
   },
   "cell_type": "markdown",
   "id": "5e5a8f99",
   "metadata": {},
   "source": [
    "![download.png](attachment:download.png)"
   ]
  },
  {
   "attachments": {
    "download%20%281%29.png": {
     "image/png": "[encoded data removed]"
    }
   },
   "cell_type": "markdown",
   "id": "09eda1d5",
   "metadata": {},
   "source": [
    "![download%20%281%29.png](attachment:download%20%281%29.png)"
   ]
  },
  {
   "cell_type": "markdown",
   "id": "1223f440",
   "metadata": {},
   "source": [
    "Html Code: <h1> Session 2 <h1>"
   ]
  },
  {
   "cell_type": "markdown",
   "id": "1c54f824",
   "metadata": {},
   "source": [
    "Session contents\n",
    "1-variables and data types\n",
    "2-basic operators\n",
    "3-inputs and custing\n",
    "4-Conditions\n",
    "5-Loops\n",
    "6-functions\n",
    "7-containers(data structure)\n",
    "8-oop\n",
    "9-exception handling\n",
    "10-file manipulation"
   ]
  },
  {
   "cell_type": "markdown",
   "id": "d83aa173",
   "metadata": {},
   "source": [
    "1-Variables:"
   ]
  },
  {
   "cell_type": "code",
   "execution_count": 1,
   "id": "f7e30a1e",
   "metadata": {},
   "outputs": [],
   "source": [
    "x=5"
   ]
  },
  {
   "cell_type": "code",
   "execution_count": 2,
   "id": "c56e0a2e",
   "metadata": {},
   "outputs": [],
   "source": [
    "s=\"nada\""
   ]
  },
  {
   "cell_type": "code",
   "execution_count": 3,
   "id": "8ec6a7c2",
   "metadata": {},
   "outputs": [],
   "source": [
    "y=10.5"
   ]
  },
  {
   "cell_type": "code",
   "execution_count": 4,
   "id": "c7be87db",
   "metadata": {},
   "outputs": [
    {
     "data": {
      "text/plain": [
       "int"
      ]
     },
     "execution_count": 4,
     "metadata": {},
     "output_type": "execute_result"
    }
   ],
   "source": [
    "type(x)"
   ]
  },
  {
   "cell_type": "code",
   "execution_count": 5,
   "id": "f90e6d29",
   "metadata": {},
   "outputs": [],
   "source": [
    "x=2.4"
   ]
  },
  {
   "cell_type": "code",
   "execution_count": 6,
   "id": "4f15e35f",
   "metadata": {},
   "outputs": [
    {
     "data": {
      "text/plain": [
       "float"
      ]
     },
     "execution_count": 6,
     "metadata": {},
     "output_type": "execute_result"
    }
   ],
   "source": [
    "type(x)"
   ]
  },
  {
   "cell_type": "markdown",
   "id": "2194b9ab",
   "metadata": {},
   "source": [
    "2-Basic operation:"
   ]
  },
  {
   "cell_type": "code",
   "execution_count": 7,
   "id": "25284454",
   "metadata": {
    "scrolled": false
   },
   "outputs": [
    {
     "data": {
      "text/plain": [
       "6.666666666666667"
      ]
     },
     "execution_count": 7,
     "metadata": {},
     "output_type": "execute_result"
    }
   ],
   "source": [
    "20/3"
   ]
  },
  {
   "cell_type": "code",
   "execution_count": 8,
   "id": "b1bf9f6a",
   "metadata": {},
   "outputs": [
    {
     "data": {
      "text/plain": [
       "6"
      ]
     },
     "execution_count": 8,
     "metadata": {},
     "output_type": "execute_result"
    }
   ],
   "source": [
    "20//3"
   ]
  },
  {
   "cell_type": "code",
   "execution_count": 9,
   "id": "4d82c4d7",
   "metadata": {},
   "outputs": [
    {
     "data": {
      "text/plain": [
       "0.666666666666667"
      ]
     },
     "execution_count": 9,
     "metadata": {},
     "output_type": "execute_result"
    }
   ],
   "source": [
    "20/3-20//3"
   ]
  },
  {
   "cell_type": "code",
   "execution_count": 10,
   "id": "398a8108",
   "metadata": {},
   "outputs": [
    {
     "data": {
      "text/plain": [
       "8"
      ]
     },
     "execution_count": 10,
     "metadata": {},
     "output_type": "execute_result"
    }
   ],
   "source": [
    "2**3 "
   ]
  },
  {
   "cell_type": "markdown",
   "id": "b0fca9fd",
   "metadata": {},
   "source": [
    "3-inputs & Custing"
   ]
  },
  {
   "cell_type": "code",
   "execution_count": 11,
   "id": "da51215d",
   "metadata": {},
   "outputs": [
    {
     "name": "stdout",
     "output_type": "stream",
     "text": [
      "nada\n"
     ]
    }
   ],
   "source": [
    "x=input()"
   ]
  },
  {
   "cell_type": "code",
   "execution_count": 12,
   "id": "48e38724",
   "metadata": {},
   "outputs": [
    {
     "data": {
      "text/plain": [
       "str"
      ]
     },
     "execution_count": 12,
     "metadata": {},
     "output_type": "execute_result"
    }
   ],
   "source": [
    "type(x)"
   ]
  },
  {
   "cell_type": "code",
   "execution_count": 13,
   "id": "2bb2281b",
   "metadata": {},
   "outputs": [
    {
     "name": "stdout",
     "output_type": "stream",
     "text": [
      "1\n"
     ]
    }
   ],
   "source": [
    "y=int(input())"
   ]
  },
  {
   "cell_type": "code",
   "execution_count": 14,
   "id": "829afaef",
   "metadata": {},
   "outputs": [
    {
     "data": {
      "text/plain": [
       "int"
      ]
     },
     "execution_count": 14,
     "metadata": {},
     "output_type": "execute_result"
    }
   ],
   "source": [
    "type(y)"
   ]
  },
  {
   "cell_type": "markdown",
   "id": "60ab4a9a",
   "metadata": {},
   "source": [
    "->to hide password"
   ]
  },
  {
   "cell_type": "code",
   "execution_count": null,
   "id": "d7242ed4",
   "metadata": {},
   "outputs": [
    {
     "name": "stdout",
     "output_type": "stream",
     "text": [
      "Enter Password: "
     ]
    }
   ],
   "source": [
    "#pip install maskpass\n",
    "import maskpass\n",
    "pwd=maskpass.advpass()\n",
    "print('passwod:',pwd)"
   ]
  },
  {
   "cell_type": "markdown",
   "id": "6eb6f516",
   "metadata": {},
   "source": [
    "4-Conditions"
   ]
  },
  {
   "cell_type": "code",
   "execution_count": null,
   "id": "d7b12651",
   "metadata": {},
   "outputs": [],
   "source": [
    "3>1"
   ]
  },
  {
   "cell_type": "code",
   "execution_count": null,
   "id": "920706a7",
   "metadata": {},
   "outputs": [],
   "source": [
    "3==1+2"
   ]
  },
  {
   "cell_type": "code",
   "execution_count": null,
   "id": "7b6a47e4",
   "metadata": {},
   "outputs": [],
   "source": [
    "if 3 > 2: \n",
    "    print('Yes')"
   ]
  },
  {
   "cell_type": "code",
   "execution_count": null,
   "id": "be6fe104",
   "metadata": {},
   "outputs": [],
   "source": [
    "if 3>4:\n",
    "    print('No')\n",
    "elif 3<4:\n",
    "    print('Yes')\n",
    "else:\n",
    "    print('Nothing')"
   ]
  },
  {
   "cell_type": "markdown",
   "id": "c4b51ec8",
   "metadata": {},
   "source": [
    "--Version of python--"
   ]
  },
  {
   "cell_type": "code",
   "execution_count": null,
   "id": "c21f7e89",
   "metadata": {},
   "outputs": [],
   "source": [
    "!python --version"
   ]
  },
  {
   "cell_type": "markdown",
   "id": "78dd94af",
   "metadata": {},
   "source": [
    "--Strings--"
   ]
  },
  {
   "cell_type": "code",
   "execution_count": null,
   "id": "9b839bbb",
   "metadata": {},
   "outputs": [],
   "source": [
    "string='Nada'\n",
    "string.capitalize()"
   ]
  },
  {
   "cell_type": "code",
   "execution_count": null,
   "id": "8d6db7ee",
   "metadata": {},
   "outputs": [],
   "source": [
    "string.casefold()"
   ]
  },
  {
   "cell_type": "code",
   "execution_count": null,
   "id": "422065d9",
   "metadata": {},
   "outputs": [],
   "source": [
    "string.count('N')"
   ]
  },
  {
   "cell_type": "code",
   "execution_count": null,
   "id": "62e53a53",
   "metadata": {},
   "outputs": [],
   "source": [
    "string.endswith('a')"
   ]
  },
  {
   "cell_type": "code",
   "execution_count": null,
   "id": "bd979fc6",
   "metadata": {},
   "outputs": [],
   "source": [
    "string.find('N')"
   ]
  },
  {
   "cell_type": "code",
   "execution_count": null,
   "id": "6215701b",
   "metadata": {},
   "outputs": [],
   "source": [
    "string.lower()"
   ]
  },
  {
   "cell_type": "code",
   "execution_count": null,
   "id": "19f89327",
   "metadata": {},
   "outputs": [],
   "source": [
    "a='nada'"
   ]
  },
  {
   "cell_type": "code",
   "execution_count": null,
   "id": "e575ab68",
   "metadata": {},
   "outputs": [],
   "source": [
    "b='tarek'"
   ]
  },
  {
   "cell_type": "code",
   "execution_count": null,
   "id": "1a7f69f6",
   "metadata": {},
   "outputs": [],
   "source": [
    "c=a+b"
   ]
  },
  {
   "cell_type": "code",
   "execution_count": null,
   "id": "12bc0906",
   "metadata": {},
   "outputs": [],
   "source": [
    "print(c)"
   ]
  },
  {
   "cell_type": "code",
   "execution_count": null,
   "id": "71be1b73",
   "metadata": {},
   "outputs": [],
   "source": [
    "a*4"
   ]
  },
  {
   "cell_type": "code",
   "execution_count": null,
   "id": "b7d0bc50",
   "metadata": {},
   "outputs": [],
   "source": [
    "print(a)"
   ]
  },
  {
   "cell_type": "markdown",
   "id": "b747180a",
   "metadata": {},
   "source": [
    "5-Loops"
   ]
  },
  {
   "cell_type": "code",
   "execution_count": null,
   "id": "7b3a99e2",
   "metadata": {},
   "outputs": [],
   "source": [
    "string='nada tarek'"
   ]
  },
  {
   "cell_type": "code",
   "execution_count": null,
   "id": "cc25c88f",
   "metadata": {},
   "outputs": [],
   "source": [
    "for i in string:\n",
    "    print(i)"
   ]
  },
  {
   "cell_type": "code",
   "execution_count": null,
   "id": "66f318b0",
   "metadata": {},
   "outputs": [],
   "source": [
    "for i in range(1,10,2):\n",
    "    print(i)"
   ]
  },
  {
   "cell_type": "code",
   "execution_count": null,
   "id": "9aa5376b",
   "metadata": {},
   "outputs": [],
   "source": [
    "a= 'nada'\n",
    "for i in a:\n",
    "    if i=='n':\n",
    "        a.replace('n','N',1)\n",
    "print(a)"
   ]
  },
  {
   "cell_type": "code",
   "execution_count": null,
   "id": "353cc50a",
   "metadata": {},
   "outputs": [],
   "source": []
  },
  {
   "cell_type": "markdown",
   "id": "84c1f674",
   "metadata": {},
   "source": [
    "6-Functions"
   ]
  },
  {
   "cell_type": "code",
   "execution_count": null,
   "id": "e668b379",
   "metadata": {},
   "outputs": [],
   "source": [
    "def Function_name():\n",
    "    print (\"ay 7aga\")"
   ]
  },
  {
   "cell_type": "code",
   "execution_count": null,
   "id": "3adf7b7f",
   "metadata": {},
   "outputs": [],
   "source": [
    "Function_name()"
   ]
  },
  {
   "cell_type": "markdown",
   "id": "0a2dc6b4",
   "metadata": {},
   "source": [
    "--Recursion Function--"
   ]
  },
  {
   "cell_type": "code",
   "execution_count": null,
   "id": "3e71845c",
   "metadata": {},
   "outputs": [],
   "source": [
    "def print10(x):\n",
    "    if x==11:\n",
    "        return\n",
    "    print(x)\n",
    "    print10(x+1)"
   ]
  },
  {
   "cell_type": "raw",
   "id": "b3ddac9a",
   "metadata": {},
   "source": []
  },
  {
   "cell_type": "code",
   "execution_count": null,
   "id": "10ed4a43",
   "metadata": {},
   "outputs": [],
   "source": []
  },
  {
   "cell_type": "code",
   "execution_count": null,
   "id": "40a29a6e",
   "metadata": {},
   "outputs": [],
   "source": []
  }
 ],
 "metadata": {
  "kernelspec": {
   "display_name": "Python 3 (ipykernel)",
   "language": "python",
   "name": "python3"
  },
  "language_info": {
   "codemirror_mode": {
    "name": "ipython",
    "version": 3
   },
   "file_extension": ".py",
   "mimetype": "text/x-python",
   "name": "python",
   "nbconvert_exporter": "python",
   "pygments_lexer": "ipython3",
   "version": "3.9.12"
  }
 },
 "nbformat": 4,
 "nbformat_minor": 5
}
