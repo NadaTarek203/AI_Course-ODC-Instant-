{
 "cells": [
  {
   "cell_type": "raw",
   "id": "ddbe6b4f",
   "metadata": {},
   "source": [
    "add this text in text file\n",
    "\n",
    "Ahmed, 01234567891, Ahmed@gmail.com\n",
    "\n",
    "and read this file using python\n",
    "then use reguler expression to add this details in this lists\n",
    "names=[]\n",
    "phones=[]\n",
    "mails=[]"
   ]
  },
  {
   "cell_type": "code",
   "execution_count": 1,
   "id": "2122fab9",
   "metadata": {},
   "outputs": [],
   "source": [
    "with open (\"regular expression.txt\",\"w\") as file:\n",
    "    file.write(\"Ahmed, 01234567891, Ahmed@gmail.com\")"
   ]
  },
  {
   "cell_type": "code",
   "execution_count": 2,
   "id": "2f2a1055",
   "metadata": {},
   "outputs": [
    {
     "name": "stdout",
     "output_type": "stream",
     "text": [
      "Ahmed, 01234567891, Ahmed@gmail.com\n"
     ]
    }
   ],
   "source": [
    "with open (\"regular expression.txt\") as file:\n",
    "    content=file.read()\n",
    "    print(content)"
   ]
  },
  {
   "cell_type": "code",
   "execution_count": 3,
   "id": "635114fa",
   "metadata": {},
   "outputs": [],
   "source": [
    "import re"
   ]
  },
  {
   "cell_type": "code",
   "execution_count": 4,
   "id": "0b80c6e7",
   "metadata": {},
   "outputs": [
    {
     "name": "stdout",
     "output_type": "stream",
     "text": [
      "['Ahmed,']\n"
     ]
    }
   ],
   "source": [
    "pattern=re.compile(r'[a-zA-Z]+,')\n",
    "matches=pattern.finditer(content)\n",
    "Name=[]\n",
    "for match in matches:\n",
    "    Name.append(content[match.span()[0]:match.span()[1]])\n",
    "    print(Name)"
   ]
  },
  {
   "cell_type": "code",
   "execution_count": 5,
   "id": "c89108ed",
   "metadata": {},
   "outputs": [
    {
     "name": "stdout",
     "output_type": "stream",
     "text": [
      "['01234567891']\n"
     ]
    }
   ],
   "source": [
    "pattern=re.compile(r'01\\d\\d\\d\\d\\d\\d\\d\\d\\d')\n",
    "matches=pattern.finditer(content)\n",
    "Number=[]\n",
    "for match in matches:\n",
    "    Number.append(content[match.span()[0]:match.span()[1]])\n",
    "    print(Number)"
   ]
  },
  {
   "cell_type": "code",
   "execution_count": 6,
   "id": "eed642d8",
   "metadata": {},
   "outputs": [
    {
     "name": "stdout",
     "output_type": "stream",
     "text": [
      "['Ahmed@gmail.com']\n"
     ]
    }
   ],
   "source": [
    "pattern=re.compile(r'[a-zA-Z-.]+@[a-zA-Z]+\\.[a-zA-Z-.]+')\n",
    "matches=pattern.finditer(content)\n",
    "Email=[]\n",
    "for match in matches:\n",
    "    Email.append(content[match.span()[0]:match.span()[1]])\n",
    "    print(Email)"
   ]
  },
  {
   "cell_type": "code",
   "execution_count": null,
   "id": "6d684211",
   "metadata": {},
   "outputs": [],
   "source": []
  }
 ],
 "metadata": {
  "kernelspec": {
   "display_name": "Python 3 (ipykernel)",
   "language": "python",
   "name": "python3"
  },
  "language_info": {
   "codemirror_mode": {
    "name": "ipython",
    "version": 3
   },
   "file_extension": ".py",
   "mimetype": "text/x-python",
   "name": "python",
   "nbconvert_exporter": "python",
   "pygments_lexer": "ipython3",
   "version": "3.9.12"
  }
 },
 "nbformat": 4,
 "nbformat_minor": 5
}
