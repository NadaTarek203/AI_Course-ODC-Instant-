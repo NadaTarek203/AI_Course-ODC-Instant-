{
 "cells": [
  {
   "cell_type": "raw",
   "id": "0e46de41",
   "metadata": {},
   "source": [
    "Ai pipline:\n",
    "\n",
    "1-verify\n",
    "2-Data Gathering(data collection,data aqquiring)\n",
    "3-Data Preprocessing\n",
    "4-Feature engineering\n",
    "5-model selection(choose best algorithm)\n",
    "6-Fit Data into th model\n",
    "7-Train\n",
    "8-Test\n",
    "9-Documentaion \n",
    "10-integrate\n",
    "11-Release\n",
    "12-Monitor\n",
    "13-Maintain"
   ]
  },
  {
   "cell_type": "raw",
   "id": "b0821178",
   "metadata": {},
   "source": [
    "Data Collection Methods:\n",
    "    1-Available -> direct access\n",
    "    2-Available(free)->Download\n",
    "    3-Available(not for free)->buy\n",
    "    4-Not available -> request #m4 mota7a w m4 m3roda llbe3\n",
    "    5-Not available but exist -> Scrapping\n",
    "    6-Not available -> create #m4 mota7a 5als"
   ]
  },
  {
   "cell_type": "raw",
   "id": "1f16eb28",
   "metadata": {},
   "source": [
    "How to create data:\n",
    "    1-Surveys\n",
    "    2-data entry"
   ]
  },
  {
   "cell_type": "raw",
   "id": "b9cc82c6",
   "metadata": {},
   "source": [
    "Websites to get free data:\n",
    "    1-Google dataset\n",
    "    2-Kaggle\n",
    "    3-Data.world\n",
    "    4-Hugging face\n",
    "    5-Academic Torrents"
   ]
  },
  {
   "cell_type": "raw",
   "id": "6981791b",
   "metadata": {},
   "source": [
    "Web scrapping:\n",
    "    1-beautiful soup\n",
    "    2-request\n",
    "    3-selenium\n",
    "    4-cronjobs"
   ]
  },
  {
   "cell_type": "raw",
   "id": "70f37c0d",
   "metadata": {},
   "source": [
    "Python:\n",
    "    1-pip\n",
    "    2-Conda"
   ]
  },
  {
   "cell_type": "raw",
   "id": "401edcce",
   "metadata": {},
   "source": [
    "Web Track:\n",
    "    frontend:design(html)\n",
    "    backend:Database,server & operation"
   ]
  },
  {
   "cell_type": "code",
   "execution_count": null,
   "id": "1272db60",
   "metadata": {},
   "outputs": [],
   "source": []
  }
 ],
 "metadata": {
  "kernelspec": {
   "display_name": "Python 3 (ipykernel)",
   "language": "python",
   "name": "python3"
  },
  "language_info": {
   "codemirror_mode": {
    "name": "ipython",
    "version": 3
   },
   "file_extension": ".py",
   "mimetype": "text/x-python",
   "name": "python",
   "nbconvert_exporter": "python",
   "pygments_lexer": "ipython3",
   "version": "3.9.12"
  }
 },
 "nbformat": 4,
 "nbformat_minor": 5
}
