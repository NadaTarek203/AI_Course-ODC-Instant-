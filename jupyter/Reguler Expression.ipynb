{
 "cells": [
  {
   "cell_type": "raw",
   "id": "06e81176",
   "metadata": {},
   "source": [
    "AI:\n",
    "    80% Data\n",
    "    20% Modeling \n",
    "80% Data:\n",
    "    90% Data Cleaning,filtering \n",
    "    10% Apply data analysis algorithms\n",
    "    "
   ]
  },
  {
   "cell_type": "code",
   "execution_count": 1,
   "id": "898398d9",
   "metadata": {},
   "outputs": [],
   "source": [
    "import re #Reguler expression "
   ]
  },
  {
   "cell_type": "code",
   "execution_count": 2,
   "id": "4660aab4",
   "metadata": {},
   "outputs": [],
   "source": [
    "text_to_search='''abcdefghjklmnopqrstuvwxyz\n",
    "ABCDEFGHKLMNOPQRSTUVWXYZ\n",
    "124567890\n",
    "Ha HaHa\n",
    "# $ % ^ & * ( ) _ + { }[ ]\n",
    "abc\n",
    "cat\n",
    "bat\n",
    "hat\n",
    "sat\n",
    "Davis\n",
    "jsks\n",
    "slsks\n",
    "12354\n",
    "123.124#123_\n",
    "3324344\n",
    "coreyms.com\n",
    "coreyms-com\n",
    "123456789012\n",
    "123#123%1234\n",
    "01223456789\n",
    "01212111221\n",
    "01523532342\n",
    "01023339455\n",
    "01120555244\n",
    "Mr. Ahmed \n",
    "Mrs. nada\n",
    "Mr. sameh\n",
    "'''\n",
    "sentence=''"
   ]
  },
  {
   "cell_type": "code",
   "execution_count": 3,
   "id": "29a5c372",
   "metadata": {},
   "outputs": [
    {
     "name": "stdout",
     "output_type": "stream",
     "text": [
      "\tTab\n",
      "Tab\n",
      "\\Tab\n"
     ]
    }
   ],
   "source": [
    "print(\"\\tTab\") # 8 spaces\n",
    "print (\"Tab\")\n",
    "print(r\"\\Tab\")"
   ]
  },
  {
   "cell_type": "code",
   "execution_count": 4,
   "id": "52c0867c",
   "metadata": {},
   "outputs": [
    {
     "data": {
      "text/plain": [
       "6"
      ]
     },
     "execution_count": 4,
     "metadata": {},
     "output_type": "execute_result"
    }
   ],
   "source": [
    "string=\"ahmed amr ali\"\n",
    "string.find(\"amr\")"
   ]
  },
  {
   "cell_type": "code",
   "execution_count": 5,
   "id": "8b922030",
   "metadata": {},
   "outputs": [
    {
     "name": "stdout",
     "output_type": "stream",
     "text": [
      "<re.Match object; span=(0, 3), match='abc'>\n",
      "<re.Match object; span=(96, 99), match='abc'>\n"
     ]
    }
   ],
   "source": [
    "import re\n",
    "pattern=re.compile(r\"abc\") #search for abc\n",
    "matches=pattern.finditer(text_to_search) # store in this string\n",
    "#matches de bykon feha kol el 7agat eli mashia m3 el formate eli ana 7tah\n",
    "for match in matches: \n",
    "    print(match)"
   ]
  },
  {
   "cell_type": "code",
   "execution_count": 6,
   "id": "d921e1d6",
   "metadata": {},
   "outputs": [
    {
     "name": "stdout",
     "output_type": "stream",
     "text": [
      "0 3\n",
      "96 99\n",
      "number of matches 2\n"
     ]
    }
   ],
   "source": [
    "import re\n",
    "pattern=re.compile(r\"abc\") #search for abc\n",
    "matches=pattern.finditer(text_to_search) # store in this string\n",
    "counter=0\n",
    "\n",
    "for i in matches:\n",
    "    print(i.span()[0],i.span()[1])\n",
    "    counter+=1\n",
    "print(\"number of matches\",counter)"
   ]
  },
  {
   "cell_type": "code",
   "execution_count": 7,
   "id": "703873aa",
   "metadata": {},
   "outputs": [
    {
     "name": "stdout",
     "output_type": "stream",
     "text": [
      "<re.Match object; span=(51, 52), match='1'>\n",
      "<re.Match object; span=(52, 53), match='2'>\n",
      "<re.Match object; span=(53, 54), match='4'>\n",
      "<re.Match object; span=(54, 55), match='5'>\n",
      "<re.Match object; span=(55, 56), match='6'>\n",
      "<re.Match object; span=(56, 57), match='7'>\n",
      "<re.Match object; span=(57, 58), match='8'>\n",
      "<re.Match object; span=(58, 59), match='9'>\n",
      "<re.Match object; span=(59, 60), match='0'>\n",
      "<re.Match object; span=(133, 134), match='1'>\n",
      "<re.Match object; span=(134, 135), match='2'>\n",
      "<re.Match object; span=(135, 136), match='3'>\n",
      "<re.Match object; span=(136, 137), match='5'>\n",
      "<re.Match object; span=(137, 138), match='4'>\n",
      "<re.Match object; span=(139, 140), match='1'>\n",
      "<re.Match object; span=(140, 141), match='2'>\n",
      "<re.Match object; span=(141, 142), match='3'>\n",
      "<re.Match object; span=(143, 144), match='1'>\n",
      "<re.Match object; span=(144, 145), match='2'>\n",
      "<re.Match object; span=(145, 146), match='4'>\n",
      "<re.Match object; span=(147, 148), match='1'>\n",
      "<re.Match object; span=(148, 149), match='2'>\n",
      "<re.Match object; span=(149, 150), match='3'>\n",
      "<re.Match object; span=(152, 153), match='3'>\n",
      "<re.Match object; span=(153, 154), match='3'>\n",
      "<re.Match object; span=(154, 155), match='2'>\n",
      "<re.Match object; span=(155, 156), match='4'>\n",
      "<re.Match object; span=(156, 157), match='3'>\n",
      "<re.Match object; span=(157, 158), match='4'>\n",
      "<re.Match object; span=(158, 159), match='4'>\n",
      "<re.Match object; span=(184, 185), match='1'>\n",
      "<re.Match object; span=(185, 186), match='2'>\n",
      "<re.Match object; span=(186, 187), match='3'>\n",
      "<re.Match object; span=(187, 188), match='4'>\n",
      "<re.Match object; span=(188, 189), match='5'>\n",
      "<re.Match object; span=(189, 190), match='6'>\n",
      "<re.Match object; span=(190, 191), match='7'>\n",
      "<re.Match object; span=(191, 192), match='8'>\n",
      "<re.Match object; span=(192, 193), match='9'>\n",
      "<re.Match object; span=(193, 194), match='0'>\n",
      "<re.Match object; span=(194, 195), match='1'>\n",
      "<re.Match object; span=(195, 196), match='2'>\n",
      "<re.Match object; span=(197, 198), match='1'>\n",
      "<re.Match object; span=(198, 199), match='2'>\n",
      "<re.Match object; span=(199, 200), match='3'>\n",
      "<re.Match object; span=(201, 202), match='1'>\n",
      "<re.Match object; span=(202, 203), match='2'>\n",
      "<re.Match object; span=(203, 204), match='3'>\n",
      "<re.Match object; span=(205, 206), match='1'>\n",
      "<re.Match object; span=(206, 207), match='2'>\n",
      "<re.Match object; span=(207, 208), match='3'>\n",
      "<re.Match object; span=(208, 209), match='4'>\n",
      "<re.Match object; span=(210, 211), match='0'>\n",
      "<re.Match object; span=(211, 212), match='1'>\n",
      "<re.Match object; span=(212, 213), match='2'>\n",
      "<re.Match object; span=(213, 214), match='2'>\n",
      "<re.Match object; span=(214, 215), match='3'>\n",
      "<re.Match object; span=(215, 216), match='4'>\n",
      "<re.Match object; span=(216, 217), match='5'>\n",
      "<re.Match object; span=(217, 218), match='6'>\n",
      "<re.Match object; span=(218, 219), match='7'>\n",
      "<re.Match object; span=(219, 220), match='8'>\n",
      "<re.Match object; span=(220, 221), match='9'>\n",
      "<re.Match object; span=(222, 223), match='0'>\n",
      "<re.Match object; span=(223, 224), match='1'>\n",
      "<re.Match object; span=(224, 225), match='2'>\n",
      "<re.Match object; span=(225, 226), match='1'>\n",
      "<re.Match object; span=(226, 227), match='2'>\n",
      "<re.Match object; span=(227, 228), match='1'>\n",
      "<re.Match object; span=(228, 229), match='1'>\n",
      "<re.Match object; span=(229, 230), match='1'>\n",
      "<re.Match object; span=(230, 231), match='2'>\n",
      "<re.Match object; span=(231, 232), match='2'>\n",
      "<re.Match object; span=(232, 233), match='1'>\n",
      "<re.Match object; span=(234, 235), match='0'>\n",
      "<re.Match object; span=(235, 236), match='1'>\n",
      "<re.Match object; span=(236, 237), match='5'>\n",
      "<re.Match object; span=(237, 238), match='2'>\n",
      "<re.Match object; span=(238, 239), match='3'>\n",
      "<re.Match object; span=(239, 240), match='5'>\n",
      "<re.Match object; span=(240, 241), match='3'>\n",
      "<re.Match object; span=(241, 242), match='2'>\n",
      "<re.Match object; span=(242, 243), match='3'>\n",
      "<re.Match object; span=(243, 244), match='4'>\n",
      "<re.Match object; span=(244, 245), match='2'>\n",
      "<re.Match object; span=(246, 247), match='0'>\n",
      "<re.Match object; span=(247, 248), match='1'>\n",
      "<re.Match object; span=(248, 249), match='0'>\n",
      "<re.Match object; span=(249, 250), match='2'>\n",
      "<re.Match object; span=(250, 251), match='3'>\n",
      "<re.Match object; span=(251, 252), match='3'>\n",
      "<re.Match object; span=(252, 253), match='3'>\n",
      "<re.Match object; span=(253, 254), match='9'>\n",
      "<re.Match object; span=(254, 255), match='4'>\n",
      "<re.Match object; span=(255, 256), match='5'>\n",
      "<re.Match object; span=(256, 257), match='5'>\n",
      "<re.Match object; span=(258, 259), match='0'>\n",
      "<re.Match object; span=(259, 260), match='1'>\n",
      "<re.Match object; span=(260, 261), match='1'>\n",
      "<re.Match object; span=(261, 262), match='2'>\n",
      "<re.Match object; span=(262, 263), match='0'>\n",
      "<re.Match object; span=(263, 264), match='5'>\n",
      "<re.Match object; span=(264, 265), match='5'>\n",
      "<re.Match object; span=(265, 266), match='5'>\n",
      "<re.Match object; span=(266, 267), match='2'>\n",
      "<re.Match object; span=(267, 268), match='4'>\n",
      "<re.Match object; span=(268, 269), match='4'>\n"
     ]
    }
   ],
   "source": [
    "import re\n",
    "pattern=re.compile(r\"\\d\") #search for any digit\n",
    "matches=pattern.finditer(text_to_search) # store in this string\n",
    "for match in matches:\n",
    "    print(match)"
   ]
  },
  {
   "cell_type": "code",
   "execution_count": 8,
   "id": "3ca63ac0",
   "metadata": {},
   "outputs": [
    {
     "name": "stdout",
     "output_type": "stream",
     "text": [
      "<re.Match object; span=(51, 53), match='12'>\n",
      "<re.Match object; span=(53, 55), match='45'>\n",
      "<re.Match object; span=(55, 57), match='67'>\n",
      "<re.Match object; span=(57, 59), match='89'>\n",
      "<re.Match object; span=(133, 135), match='12'>\n",
      "<re.Match object; span=(135, 137), match='35'>\n",
      "<re.Match object; span=(139, 141), match='12'>\n",
      "<re.Match object; span=(143, 145), match='12'>\n",
      "<re.Match object; span=(147, 149), match='12'>\n",
      "<re.Match object; span=(152, 154), match='33'>\n",
      "<re.Match object; span=(154, 156), match='24'>\n",
      "<re.Match object; span=(156, 158), match='34'>\n",
      "<re.Match object; span=(184, 186), match='12'>\n",
      "<re.Match object; span=(186, 188), match='34'>\n",
      "<re.Match object; span=(188, 190), match='56'>\n",
      "<re.Match object; span=(190, 192), match='78'>\n",
      "<re.Match object; span=(192, 194), match='90'>\n",
      "<re.Match object; span=(194, 196), match='12'>\n",
      "<re.Match object; span=(197, 199), match='12'>\n",
      "<re.Match object; span=(201, 203), match='12'>\n",
      "<re.Match object; span=(205, 207), match='12'>\n",
      "<re.Match object; span=(207, 209), match='34'>\n",
      "<re.Match object; span=(210, 212), match='01'>\n",
      "<re.Match object; span=(212, 214), match='22'>\n",
      "<re.Match object; span=(214, 216), match='34'>\n",
      "<re.Match object; span=(216, 218), match='56'>\n",
      "<re.Match object; span=(218, 220), match='78'>\n",
      "<re.Match object; span=(222, 224), match='01'>\n",
      "<re.Match object; span=(224, 226), match='21'>\n",
      "<re.Match object; span=(226, 228), match='21'>\n",
      "<re.Match object; span=(228, 230), match='11'>\n",
      "<re.Match object; span=(230, 232), match='22'>\n",
      "<re.Match object; span=(234, 236), match='01'>\n",
      "<re.Match object; span=(236, 238), match='52'>\n",
      "<re.Match object; span=(238, 240), match='35'>\n",
      "<re.Match object; span=(240, 242), match='32'>\n",
      "<re.Match object; span=(242, 244), match='34'>\n",
      "<re.Match object; span=(246, 248), match='01'>\n",
      "<re.Match object; span=(248, 250), match='02'>\n",
      "<re.Match object; span=(250, 252), match='33'>\n",
      "<re.Match object; span=(252, 254), match='39'>\n",
      "<re.Match object; span=(254, 256), match='45'>\n",
      "<re.Match object; span=(258, 260), match='01'>\n",
      "<re.Match object; span=(260, 262), match='12'>\n",
      "<re.Match object; span=(262, 264), match='05'>\n",
      "<re.Match object; span=(264, 266), match='55'>\n",
      "<re.Match object; span=(266, 268), match='24'>\n"
     ]
    }
   ],
   "source": [
    "import re\n",
    "pattern=re.compile(r\"\\d\\d\") #search for 2 two digits\n",
    "matches=pattern.finditer(text_to_search) # store in this string\n",
    "for match in matches:\n",
    "    print(match)"
   ]
  },
  {
   "cell_type": "code",
   "execution_count": 9,
   "id": "d1e45365",
   "metadata": {},
   "outputs": [
    {
     "name": "stdout",
     "output_type": "stream",
     "text": [
      "<re.Match object; span=(0, 1), match='a'>\n",
      "<re.Match object; span=(1, 2), match='b'>\n",
      "<re.Match object; span=(2, 3), match='c'>\n",
      "<re.Match object; span=(3, 4), match='d'>\n",
      "<re.Match object; span=(4, 5), match='e'>\n",
      "<re.Match object; span=(5, 6), match='f'>\n",
      "<re.Match object; span=(6, 7), match='g'>\n",
      "<re.Match object; span=(7, 8), match='h'>\n",
      "<re.Match object; span=(8, 9), match='j'>\n",
      "<re.Match object; span=(9, 10), match='k'>\n",
      "<re.Match object; span=(10, 11), match='l'>\n",
      "<re.Match object; span=(11, 12), match='m'>\n",
      "<re.Match object; span=(12, 13), match='n'>\n",
      "<re.Match object; span=(13, 14), match='o'>\n",
      "<re.Match object; span=(14, 15), match='p'>\n",
      "<re.Match object; span=(15, 16), match='q'>\n",
      "<re.Match object; span=(16, 17), match='r'>\n",
      "<re.Match object; span=(17, 18), match='s'>\n",
      "<re.Match object; span=(18, 19), match='t'>\n",
      "<re.Match object; span=(19, 20), match='u'>\n",
      "<re.Match object; span=(20, 21), match='v'>\n",
      "<re.Match object; span=(21, 22), match='w'>\n",
      "<re.Match object; span=(22, 23), match='x'>\n",
      "<re.Match object; span=(23, 24), match='y'>\n",
      "<re.Match object; span=(24, 25), match='z'>\n",
      "<re.Match object; span=(25, 26), match='\\n'>\n",
      "<re.Match object; span=(26, 27), match='A'>\n",
      "<re.Match object; span=(27, 28), match='B'>\n",
      "<re.Match object; span=(28, 29), match='C'>\n",
      "<re.Match object; span=(29, 30), match='D'>\n",
      "<re.Match object; span=(30, 31), match='E'>\n",
      "<re.Match object; span=(31, 32), match='F'>\n",
      "<re.Match object; span=(32, 33), match='G'>\n",
      "<re.Match object; span=(33, 34), match='H'>\n",
      "<re.Match object; span=(34, 35), match='K'>\n",
      "<re.Match object; span=(35, 36), match='L'>\n",
      "<re.Match object; span=(36, 37), match='M'>\n",
      "<re.Match object; span=(37, 38), match='N'>\n",
      "<re.Match object; span=(38, 39), match='O'>\n",
      "<re.Match object; span=(39, 40), match='P'>\n",
      "<re.Match object; span=(40, 41), match='Q'>\n",
      "<re.Match object; span=(41, 42), match='R'>\n",
      "<re.Match object; span=(42, 43), match='S'>\n",
      "<re.Match object; span=(43, 44), match='T'>\n",
      "<re.Match object; span=(44, 45), match='U'>\n",
      "<re.Match object; span=(45, 46), match='V'>\n",
      "<re.Match object; span=(46, 47), match='W'>\n",
      "<re.Match object; span=(47, 48), match='X'>\n",
      "<re.Match object; span=(48, 49), match='Y'>\n",
      "<re.Match object; span=(49, 50), match='Z'>\n",
      "<re.Match object; span=(50, 51), match='\\n'>\n",
      "<re.Match object; span=(60, 61), match='\\n'>\n",
      "<re.Match object; span=(61, 62), match='H'>\n",
      "<re.Match object; span=(62, 63), match='a'>\n",
      "<re.Match object; span=(63, 64), match=' '>\n",
      "<re.Match object; span=(64, 65), match='H'>\n",
      "<re.Match object; span=(65, 66), match='a'>\n",
      "<re.Match object; span=(66, 67), match='H'>\n",
      "<re.Match object; span=(67, 68), match='a'>\n",
      "<re.Match object; span=(68, 69), match='\\n'>\n",
      "<re.Match object; span=(69, 70), match='#'>\n",
      "<re.Match object; span=(70, 71), match=' '>\n",
      "<re.Match object; span=(71, 72), match='$'>\n",
      "<re.Match object; span=(72, 73), match=' '>\n",
      "<re.Match object; span=(73, 74), match='%'>\n",
      "<re.Match object; span=(74, 75), match=' '>\n",
      "<re.Match object; span=(75, 76), match='^'>\n",
      "<re.Match object; span=(76, 77), match=' '>\n",
      "<re.Match object; span=(77, 78), match='&'>\n",
      "<re.Match object; span=(78, 79), match=' '>\n",
      "<re.Match object; span=(79, 80), match='*'>\n",
      "<re.Match object; span=(80, 81), match=' '>\n",
      "<re.Match object; span=(81, 82), match='('>\n",
      "<re.Match object; span=(82, 83), match=' '>\n",
      "<re.Match object; span=(83, 84), match=')'>\n",
      "<re.Match object; span=(84, 85), match=' '>\n",
      "<re.Match object; span=(85, 86), match='_'>\n",
      "<re.Match object; span=(86, 87), match=' '>\n",
      "<re.Match object; span=(87, 88), match='+'>\n",
      "<re.Match object; span=(88, 89), match=' '>\n",
      "<re.Match object; span=(89, 90), match='{'>\n",
      "<re.Match object; span=(90, 91), match=' '>\n",
      "<re.Match object; span=(91, 92), match='}'>\n",
      "<re.Match object; span=(92, 93), match='['>\n",
      "<re.Match object; span=(93, 94), match=' '>\n",
      "<re.Match object; span=(94, 95), match=']'>\n",
      "<re.Match object; span=(95, 96), match='\\n'>\n",
      "<re.Match object; span=(96, 97), match='a'>\n",
      "<re.Match object; span=(97, 98), match='b'>\n",
      "<re.Match object; span=(98, 99), match='c'>\n",
      "<re.Match object; span=(99, 100), match='\\n'>\n",
      "<re.Match object; span=(100, 101), match='c'>\n",
      "<re.Match object; span=(101, 102), match='a'>\n",
      "<re.Match object; span=(102, 103), match='t'>\n",
      "<re.Match object; span=(103, 104), match='\\n'>\n",
      "<re.Match object; span=(104, 105), match='b'>\n",
      "<re.Match object; span=(105, 106), match='a'>\n",
      "<re.Match object; span=(106, 107), match='t'>\n",
      "<re.Match object; span=(107, 108), match='\\n'>\n",
      "<re.Match object; span=(108, 109), match='h'>\n",
      "<re.Match object; span=(109, 110), match='a'>\n",
      "<re.Match object; span=(110, 111), match='t'>\n",
      "<re.Match object; span=(111, 112), match='\\n'>\n",
      "<re.Match object; span=(112, 113), match='s'>\n",
      "<re.Match object; span=(113, 114), match='a'>\n",
      "<re.Match object; span=(114, 115), match='t'>\n",
      "<re.Match object; span=(115, 116), match='\\n'>\n",
      "<re.Match object; span=(116, 117), match='D'>\n",
      "<re.Match object; span=(117, 118), match='a'>\n",
      "<re.Match object; span=(118, 119), match='v'>\n",
      "<re.Match object; span=(119, 120), match='i'>\n",
      "<re.Match object; span=(120, 121), match='s'>\n",
      "<re.Match object; span=(121, 122), match='\\n'>\n",
      "<re.Match object; span=(122, 123), match='j'>\n",
      "<re.Match object; span=(123, 124), match='s'>\n",
      "<re.Match object; span=(124, 125), match='k'>\n",
      "<re.Match object; span=(125, 126), match='s'>\n",
      "<re.Match object; span=(126, 127), match='\\n'>\n",
      "<re.Match object; span=(127, 128), match='s'>\n",
      "<re.Match object; span=(128, 129), match='l'>\n",
      "<re.Match object; span=(129, 130), match='s'>\n",
      "<re.Match object; span=(130, 131), match='k'>\n",
      "<re.Match object; span=(131, 132), match='s'>\n",
      "<re.Match object; span=(132, 133), match='\\n'>\n",
      "<re.Match object; span=(138, 139), match='\\n'>\n",
      "<re.Match object; span=(142, 143), match='.'>\n",
      "<re.Match object; span=(146, 147), match='#'>\n",
      "<re.Match object; span=(150, 151), match='_'>\n",
      "<re.Match object; span=(151, 152), match='\\n'>\n",
      "<re.Match object; span=(159, 160), match='\\n'>\n",
      "<re.Match object; span=(160, 161), match='c'>\n",
      "<re.Match object; span=(161, 162), match='o'>\n",
      "<re.Match object; span=(162, 163), match='r'>\n",
      "<re.Match object; span=(163, 164), match='e'>\n",
      "<re.Match object; span=(164, 165), match='y'>\n",
      "<re.Match object; span=(165, 166), match='m'>\n",
      "<re.Match object; span=(166, 167), match='s'>\n",
      "<re.Match object; span=(167, 168), match='.'>\n",
      "<re.Match object; span=(168, 169), match='c'>\n",
      "<re.Match object; span=(169, 170), match='o'>\n",
      "<re.Match object; span=(170, 171), match='m'>\n",
      "<re.Match object; span=(171, 172), match='\\n'>\n",
      "<re.Match object; span=(172, 173), match='c'>\n",
      "<re.Match object; span=(173, 174), match='o'>\n",
      "<re.Match object; span=(174, 175), match='r'>\n",
      "<re.Match object; span=(175, 176), match='e'>\n",
      "<re.Match object; span=(176, 177), match='y'>\n",
      "<re.Match object; span=(177, 178), match='m'>\n",
      "<re.Match object; span=(178, 179), match='s'>\n",
      "<re.Match object; span=(179, 180), match='-'>\n",
      "<re.Match object; span=(180, 181), match='c'>\n",
      "<re.Match object; span=(181, 182), match='o'>\n",
      "<re.Match object; span=(182, 183), match='m'>\n",
      "<re.Match object; span=(183, 184), match='\\n'>\n",
      "<re.Match object; span=(196, 197), match='\\n'>\n",
      "<re.Match object; span=(200, 201), match='#'>\n",
      "<re.Match object; span=(204, 205), match='%'>\n",
      "<re.Match object; span=(209, 210), match='\\n'>\n",
      "<re.Match object; span=(221, 222), match='\\n'>\n",
      "<re.Match object; span=(233, 234), match='\\n'>\n",
      "<re.Match object; span=(245, 246), match='\\n'>\n",
      "<re.Match object; span=(257, 258), match='\\n'>\n",
      "<re.Match object; span=(269, 270), match='\\n'>\n",
      "<re.Match object; span=(270, 271), match='M'>\n",
      "<re.Match object; span=(271, 272), match='r'>\n",
      "<re.Match object; span=(272, 273), match='.'>\n",
      "<re.Match object; span=(273, 274), match=' '>\n",
      "<re.Match object; span=(274, 275), match='A'>\n",
      "<re.Match object; span=(275, 276), match='h'>\n",
      "<re.Match object; span=(276, 277), match='m'>\n",
      "<re.Match object; span=(277, 278), match='e'>\n",
      "<re.Match object; span=(278, 279), match='d'>\n",
      "<re.Match object; span=(279, 280), match=' '>\n",
      "<re.Match object; span=(280, 281), match='\\n'>\n",
      "<re.Match object; span=(281, 282), match='M'>\n",
      "<re.Match object; span=(282, 283), match='r'>\n",
      "<re.Match object; span=(283, 284), match='s'>\n",
      "<re.Match object; span=(284, 285), match='.'>\n",
      "<re.Match object; span=(285, 286), match=' '>\n",
      "<re.Match object; span=(286, 287), match='n'>\n",
      "<re.Match object; span=(287, 288), match='a'>\n"
     ]
    },
    {
     "name": "stdout",
     "output_type": "stream",
     "text": [
      "<re.Match object; span=(288, 289), match='d'>\n",
      "<re.Match object; span=(289, 290), match='a'>\n",
      "<re.Match object; span=(290, 291), match='\\n'>\n",
      "<re.Match object; span=(291, 292), match='M'>\n",
      "<re.Match object; span=(292, 293), match='r'>\n",
      "<re.Match object; span=(293, 294), match='.'>\n",
      "<re.Match object; span=(294, 295), match=' '>\n",
      "<re.Match object; span=(295, 296), match='s'>\n",
      "<re.Match object; span=(296, 297), match='a'>\n",
      "<re.Match object; span=(297, 298), match='m'>\n",
      "<re.Match object; span=(298, 299), match='e'>\n",
      "<re.Match object; span=(299, 300), match='h'>\n",
      "<re.Match object; span=(300, 301), match='\\n'>\n"
     ]
    }
   ],
   "source": [
    "import re\n",
    "pattern=re.compile(r\"\\D\") #search for only not a digit\n",
    "matches=pattern.finditer(text_to_search) # store in this string\n",
    "for match in matches:\n",
    "    print(match)"
   ]
  },
  {
   "cell_type": "code",
   "execution_count": 10,
   "id": "5d78453f",
   "metadata": {},
   "outputs": [
    {
     "name": "stdout",
     "output_type": "stream",
     "text": [
      "<re.Match object; span=(51, 54), match='124'>\n",
      "<re.Match object; span=(54, 57), match='567'>\n",
      "<re.Match object; span=(57, 60), match='890'>\n",
      "<re.Match object; span=(133, 136), match='123'>\n",
      "<re.Match object; span=(139, 142), match='123'>\n",
      "<re.Match object; span=(143, 146), match='124'>\n",
      "<re.Match object; span=(147, 150), match='123'>\n",
      "<re.Match object; span=(152, 155), match='332'>\n",
      "<re.Match object; span=(155, 158), match='434'>\n",
      "<re.Match object; span=(184, 187), match='123'>\n",
      "<re.Match object; span=(187, 190), match='456'>\n",
      "<re.Match object; span=(190, 193), match='789'>\n",
      "<re.Match object; span=(193, 196), match='012'>\n",
      "<re.Match object; span=(197, 200), match='123'>\n",
      "<re.Match object; span=(201, 204), match='123'>\n",
      "<re.Match object; span=(205, 208), match='123'>\n",
      "<re.Match object; span=(210, 213), match='012'>\n",
      "<re.Match object; span=(213, 216), match='234'>\n",
      "<re.Match object; span=(216, 219), match='567'>\n",
      "<re.Match object; span=(222, 225), match='012'>\n",
      "<re.Match object; span=(225, 228), match='121'>\n",
      "<re.Match object; span=(228, 231), match='112'>\n",
      "<re.Match object; span=(234, 237), match='015'>\n",
      "<re.Match object; span=(237, 240), match='235'>\n",
      "<re.Match object; span=(240, 243), match='323'>\n",
      "<re.Match object; span=(246, 249), match='010'>\n",
      "<re.Match object; span=(249, 252), match='233'>\n",
      "<re.Match object; span=(252, 255), match='394'>\n",
      "<re.Match object; span=(258, 261), match='011'>\n",
      "<re.Match object; span=(261, 264), match='205'>\n",
      "<re.Match object; span=(264, 267), match='552'>\n"
     ]
    }
   ],
   "source": [
    "import re\n",
    "pattern=re.compile(r\"\\d\\d\\d\") #search for 3 digit\n",
    "matches=pattern.finditer(text_to_search) # store in this string\n",
    "for match in matches:\n",
    "    print(match)"
   ]
  },
  {
   "cell_type": "code",
   "execution_count": 11,
   "id": "e85d4385",
   "metadata": {},
   "outputs": [
    {
     "name": "stdout",
     "output_type": "stream",
     "text": [
      "<re.Match object; span=(139, 150), match='123.124#123'>\n",
      "<re.Match object; span=(184, 195), match='12345678901'>\n",
      "<re.Match object; span=(197, 208), match='123#123%123'>\n",
      "<re.Match object; span=(210, 221), match='01223456789'>\n",
      "<re.Match object; span=(222, 233), match='01212111221'>\n",
      "<re.Match object; span=(234, 245), match='01523532342'>\n",
      "<re.Match object; span=(246, 257), match='01023339455'>\n",
      "<re.Match object; span=(258, 269), match='01120555244'>\n"
     ]
    }
   ],
   "source": [
    "import re\n",
    "pattern=re.compile(r\"\\d\\d\\d.\\d\\d\\d.\\d\\d\\d\") #search for number\n",
    "matches=pattern.finditer(text_to_search) # store in this string\n",
    "for match in matches:\n",
    "    print(match)"
   ]
  },
  {
   "cell_type": "code",
   "execution_count": 12,
   "id": "8f13403d",
   "metadata": {},
   "outputs": [],
   "source": [
    "import re\n",
    "pattern=re.compile(r\"\\d\\d\\d[-.]\\d\\d\\d[-.]\\d\\d\\d\\d\") \n",
    "matches=pattern.finditer(text_to_search) # store in this string\n",
    "for match in matches:\n",
    "    print(match)"
   ]
  },
  {
   "cell_type": "code",
   "execution_count": 13,
   "id": "8871624e",
   "metadata": {},
   "outputs": [],
   "source": [
    "import re\n",
    "pattern=re.compile(r\"\\d\\d\\d[-.]\\d\\d\\d[-.]\\d\\d\\d\\d\")\n",
    "matches=pattern.finditer(text_to_search) # store in this string\n",
    "for match in matches:\n",
    "    print(match)"
   ]
  },
  {
   "cell_type": "code",
   "execution_count": 14,
   "id": "ee92a21a",
   "metadata": {},
   "outputs": [],
   "source": [
    "contact=\"Ahmed:01233443403,Ali:01110101111\"\n",
    "pattern=re.compile(r\"012\\d\\d\\d\\d\\d\\d\\d\\d\") \n",
    "matches=pattern.finditer(text_to_search) # store in this string\n",
    "newstring=\"\""
   ]
  },
  {
   "cell_type": "code",
   "execution_count": 15,
   "id": "27c13f0b",
   "metadata": {},
   "outputs": [
    {
     "name": "stdout",
     "output_type": "stream",
     "text": [
      "['01223456789']\n",
      "['01223456789', '01212111221']\n"
     ]
    }
   ],
   "source": [
    "pattern=re.compile(r\"012\\d\\d\\d\\d\\d\\d\\d\\d\") \n",
    "matches=pattern.finditer(text_to_search) # store in this string\n",
    "OrangeNumber=[]\n",
    "for match in matches:\n",
    "    OrangeNumber.append(text_to_search[match.span()[0] : match.span()[1]]) # b3ml slicing\n",
    "    print(OrangeNumber)\n"
   ]
  },
  {
   "cell_type": "code",
   "execution_count": null,
   "id": "1ef2e6a3",
   "metadata": {},
   "outputs": [],
   "source": []
  },
  {
   "cell_type": "code",
   "execution_count": 16,
   "id": "85002276",
   "metadata": {},
   "outputs": [
    {
     "name": "stdout",
     "output_type": "stream",
     "text": [
      "<re.Match object; span=(100, 103), match='cat'>\n",
      "<re.Match object; span=(104, 107), match='bat'>\n",
      "<re.Match object; span=(108, 111), match='hat'>\n",
      "<re.Match object; span=(112, 115), match='sat'>\n"
     ]
    }
   ],
   "source": [
    "pattern=re.compile(\".at\") #search for any string end by at and begin with any char \n",
    "matches=pattern.finditer(text_to_search) # store in this string\n",
    "for i in matches:\n",
    "    print(i)"
   ]
  },
  {
   "cell_type": "code",
   "execution_count": 17,
   "id": "71ceb074",
   "metadata": {},
   "outputs": [
    {
     "name": "stdout",
     "output_type": "stream",
     "text": [
      "<re.Match object; span=(104, 107), match='bat'>\n",
      "<re.Match object; span=(108, 111), match='hat'>\n",
      "<re.Match object; span=(112, 115), match='sat'>\n"
     ]
    }
   ],
   "source": [
    "pattern=re.compile(\"[^c]at\") #search for every string end with at but not cat\n",
    "matches=pattern.finditer(text_to_search) # store in this string\n",
    "for i in matches:\n",
    "    print(i)"
   ]
  },
  {
   "cell_type": "code",
   "execution_count": 18,
   "id": "31b0e36c",
   "metadata": {},
   "outputs": [
    {
     "name": "stdout",
     "output_type": "stream",
     "text": [
      "<re.Match object; span=(51, 55), match='1245'>\n",
      "<re.Match object; span=(55, 59), match='6789'>\n",
      "<re.Match object; span=(133, 137), match='1235'>\n",
      "<re.Match object; span=(152, 156), match='3324'>\n",
      "<re.Match object; span=(184, 188), match='1234'>\n",
      "<re.Match object; span=(188, 192), match='5678'>\n",
      "<re.Match object; span=(192, 196), match='9012'>\n",
      "<re.Match object; span=(205, 209), match='1234'>\n",
      "<re.Match object; span=(210, 214), match='0122'>\n",
      "<re.Match object; span=(214, 218), match='3456'>\n",
      "<re.Match object; span=(222, 226), match='0121'>\n",
      "<re.Match object; span=(226, 230), match='2111'>\n",
      "<re.Match object; span=(234, 238), match='0152'>\n",
      "<re.Match object; span=(238, 242), match='3532'>\n",
      "<re.Match object; span=(246, 250), match='0102'>\n",
      "<re.Match object; span=(250, 254), match='3339'>\n",
      "<re.Match object; span=(258, 262), match='0112'>\n",
      "<re.Match object; span=(262, 266), match='0555'>\n"
     ]
    }
   ],
   "source": [
    "pattern=re.compile(\"\\d{4}\") #search for 4 digits\n",
    "matches=pattern.finditer(text_to_search) # store in this string\n",
    "for i in matches:\n",
    "    print(i)"
   ]
  },
  {
   "cell_type": "code",
   "execution_count": 19,
   "id": "62aac1d5",
   "metadata": {},
   "outputs": [],
   "source": [
    "pattern=re.compile(\"\\d{3}[-.]\\d{3}[-.]\\d{4}\") #search for\n",
    "matches=pattern.finditer(text_to_search) # store in this string\n",
    "for i in matches:\n",
    "    print(i)"
   ]
  },
  {
   "cell_type": "code",
   "execution_count": 20,
   "id": "4f829af6",
   "metadata": {},
   "outputs": [
    {
     "name": "stdout",
     "output_type": "stream",
     "text": [
      "<re.Match object; span=(160, 171), match='coreyms.com'>\n",
      "<re.Match object; span=(172, 183), match='coreyms-com'>\n"
     ]
    }
   ],
   "source": [
    "pattern=re.compile(\"coreyms.com\") \n",
    "matches=pattern.finditer(text_to_search) # store in this string\n",
    "for i in matches:\n",
    "    print(i)"
   ]
  },
  {
   "cell_type": "code",
   "execution_count": 21,
   "id": "eb0c4e32",
   "metadata": {},
   "outputs": [
    {
     "name": "stdout",
     "output_type": "stream",
     "text": [
      "<re.Match object; span=(160, 171), match='coreyms.com'>\n"
     ]
    }
   ],
   "source": [
    "pattern=re.compile(\"coreyms\\.com\") #search for actually coreyms.com\n",
    "matches=pattern.finditer(text_to_search) # store in this string\n",
    "for i in matches:\n",
    "    print(i)"
   ]
  },
  {
   "cell_type": "code",
   "execution_count": 22,
   "id": "d8252c6a",
   "metadata": {},
   "outputs": [
    {
     "name": "stdout",
     "output_type": "stream",
     "text": [
      "<re.Match object; span=(116, 121), match='Davis'>\n"
     ]
    }
   ],
   "source": [
    "pattern=re.compile(\"D...s\") #search for string start with D and end with s\n",
    "matches=pattern.finditer(text_to_search) # store in this string\n",
    "for i in matches:\n",
    "    print(i)"
   ]
  },
  {
   "cell_type": "code",
   "execution_count": 23,
   "id": "a2b9425c",
   "metadata": {},
   "outputs": [
    {
     "name": "stdout",
     "output_type": "stream",
     "text": [
      "<re.Match object; span=(116, 121), match='Davis'>\n"
     ]
    }
   ],
   "source": [
    "pattern=re.compile(\"D.+s\") #search for string start with D and end with s with any number of chars between them\n",
    "matches=pattern.finditer(text_to_search) # store in this string\n",
    "for i in matches:\n",
    "    print(i)"
   ]
  },
  {
   "cell_type": "code",
   "execution_count": 24,
   "id": "fb1a3ecb",
   "metadata": {},
   "outputs": [
    {
     "name": "stdout",
     "output_type": "stream",
     "text": [
      "<re.Match object; span=(270, 280), match='Mr. Ahmed '>\n",
      "<re.Match object; span=(281, 290), match='Mrs. nada'>\n",
      "<re.Match object; span=(291, 300), match='Mr. sameh'>\n"
     ]
    }
   ],
   "source": [
    "pattern=re.compile(\"Mr.+\") \n",
    "matches=pattern.finditer(text_to_search) # store in this string\n",
    "for i in matches:\n",
    "    print(i)"
   ]
  },
  {
   "cell_type": "code",
   "execution_count": 25,
   "id": "a9dace2f",
   "metadata": {},
   "outputs": [
    {
     "name": "stdout",
     "output_type": "stream",
     "text": [
      "<re.Match object; span=(270, 276), match='Mr. Ah'>\n",
      "<re.Match object; span=(281, 287), match='Mrs. n'>\n",
      "<re.Match object; span=(291, 297), match='Mr. sa'>\n"
     ]
    }
   ],
   "source": [
    "pattern=re.compile(\"Mr.{4}\") #search for Mr+4 chars\n",
    "matches=pattern.finditer(text_to_search) # store in this string\n",
    "for i in matches:\n",
    "    print(i)"
   ]
  },
  {
   "cell_type": "code",
   "execution_count": 26,
   "id": "0a7e9ee5",
   "metadata": {},
   "outputs": [
    {
     "name": "stdout",
     "output_type": "stream",
     "text": [
      "<re.Match object; span=(77, 78), match='&'>\n"
     ]
    }
   ],
   "source": [
    "pattern=re.compile(\"[&]\") #search for special chars\n",
    "matches=pattern.finditer(text_to_search) # store in this string\n",
    "for i in matches:\n",
    "    print(i)"
   ]
  },
  {
   "cell_type": "code",
   "execution_count": null,
   "id": "2a0cc11f",
   "metadata": {},
   "outputs": [],
   "source": []
  },
  {
   "cell_type": "code",
   "execution_count": 27,
   "id": "1cd45607",
   "metadata": {},
   "outputs": [
    {
     "name": "stdout",
     "output_type": "stream",
     "text": [
      "<re.Match object; span=(0, 1), match='a'>\n",
      "<re.Match object; span=(1, 2), match='b'>\n",
      "<re.Match object; span=(2, 3), match='c'>\n",
      "<re.Match object; span=(3, 4), match='d'>\n",
      "<re.Match object; span=(4, 5), match='e'>\n",
      "<re.Match object; span=(5, 6), match='f'>\n",
      "<re.Match object; span=(6, 7), match='g'>\n",
      "<re.Match object; span=(7, 8), match='h'>\n",
      "<re.Match object; span=(8, 9), match='j'>\n",
      "<re.Match object; span=(9, 10), match='k'>\n",
      "<re.Match object; span=(10, 11), match='l'>\n",
      "<re.Match object; span=(11, 12), match='m'>\n",
      "<re.Match object; span=(12, 13), match='n'>\n",
      "<re.Match object; span=(13, 14), match='o'>\n",
      "<re.Match object; span=(14, 15), match='p'>\n",
      "<re.Match object; span=(15, 16), match='q'>\n",
      "<re.Match object; span=(16, 17), match='r'>\n",
      "<re.Match object; span=(17, 18), match='s'>\n",
      "<re.Match object; span=(18, 19), match='t'>\n",
      "<re.Match object; span=(19, 20), match='u'>\n",
      "<re.Match object; span=(20, 21), match='v'>\n",
      "<re.Match object; span=(21, 22), match='w'>\n",
      "<re.Match object; span=(22, 23), match='x'>\n",
      "<re.Match object; span=(23, 24), match='y'>\n",
      "<re.Match object; span=(24, 25), match='z'>\n",
      "<re.Match object; span=(26, 27), match='A'>\n",
      "<re.Match object; span=(27, 28), match='B'>\n",
      "<re.Match object; span=(28, 29), match='C'>\n",
      "<re.Match object; span=(29, 30), match='D'>\n",
      "<re.Match object; span=(30, 31), match='E'>\n",
      "<re.Match object; span=(31, 32), match='F'>\n",
      "<re.Match object; span=(32, 33), match='G'>\n",
      "<re.Match object; span=(33, 34), match='H'>\n",
      "<re.Match object; span=(34, 35), match='K'>\n",
      "<re.Match object; span=(35, 36), match='L'>\n",
      "<re.Match object; span=(36, 37), match='M'>\n",
      "<re.Match object; span=(37, 38), match='N'>\n",
      "<re.Match object; span=(38, 39), match='O'>\n",
      "<re.Match object; span=(39, 40), match='P'>\n",
      "<re.Match object; span=(40, 41), match='Q'>\n",
      "<re.Match object; span=(41, 42), match='R'>\n",
      "<re.Match object; span=(42, 43), match='S'>\n",
      "<re.Match object; span=(43, 44), match='T'>\n",
      "<re.Match object; span=(44, 45), match='U'>\n",
      "<re.Match object; span=(45, 46), match='V'>\n",
      "<re.Match object; span=(46, 47), match='W'>\n",
      "<re.Match object; span=(47, 48), match='X'>\n",
      "<re.Match object; span=(48, 49), match='Y'>\n",
      "<re.Match object; span=(49, 50), match='Z'>\n",
      "<re.Match object; span=(51, 52), match='1'>\n",
      "<re.Match object; span=(52, 53), match='2'>\n",
      "<re.Match object; span=(53, 54), match='4'>\n",
      "<re.Match object; span=(54, 55), match='5'>\n",
      "<re.Match object; span=(55, 56), match='6'>\n",
      "<re.Match object; span=(56, 57), match='7'>\n",
      "<re.Match object; span=(57, 58), match='8'>\n",
      "<re.Match object; span=(58, 59), match='9'>\n",
      "<re.Match object; span=(59, 60), match='0'>\n",
      "<re.Match object; span=(61, 62), match='H'>\n",
      "<re.Match object; span=(62, 63), match='a'>\n",
      "<re.Match object; span=(64, 65), match='H'>\n",
      "<re.Match object; span=(65, 66), match='a'>\n",
      "<re.Match object; span=(66, 67), match='H'>\n",
      "<re.Match object; span=(67, 68), match='a'>\n",
      "<re.Match object; span=(85, 86), match='_'>\n",
      "<re.Match object; span=(96, 97), match='a'>\n",
      "<re.Match object; span=(97, 98), match='b'>\n",
      "<re.Match object; span=(98, 99), match='c'>\n",
      "<re.Match object; span=(100, 101), match='c'>\n",
      "<re.Match object; span=(101, 102), match='a'>\n",
      "<re.Match object; span=(102, 103), match='t'>\n",
      "<re.Match object; span=(104, 105), match='b'>\n",
      "<re.Match object; span=(105, 106), match='a'>\n",
      "<re.Match object; span=(106, 107), match='t'>\n",
      "<re.Match object; span=(108, 109), match='h'>\n",
      "<re.Match object; span=(109, 110), match='a'>\n",
      "<re.Match object; span=(110, 111), match='t'>\n",
      "<re.Match object; span=(112, 113), match='s'>\n",
      "<re.Match object; span=(113, 114), match='a'>\n",
      "<re.Match object; span=(114, 115), match='t'>\n",
      "<re.Match object; span=(116, 117), match='D'>\n",
      "<re.Match object; span=(117, 118), match='a'>\n",
      "<re.Match object; span=(118, 119), match='v'>\n",
      "<re.Match object; span=(119, 120), match='i'>\n",
      "<re.Match object; span=(120, 121), match='s'>\n",
      "<re.Match object; span=(122, 123), match='j'>\n",
      "<re.Match object; span=(123, 124), match='s'>\n",
      "<re.Match object; span=(124, 125), match='k'>\n",
      "<re.Match object; span=(125, 126), match='s'>\n",
      "<re.Match object; span=(127, 128), match='s'>\n",
      "<re.Match object; span=(128, 129), match='l'>\n",
      "<re.Match object; span=(129, 130), match='s'>\n",
      "<re.Match object; span=(130, 131), match='k'>\n",
      "<re.Match object; span=(131, 132), match='s'>\n",
      "<re.Match object; span=(133, 134), match='1'>\n",
      "<re.Match object; span=(134, 135), match='2'>\n",
      "<re.Match object; span=(135, 136), match='3'>\n",
      "<re.Match object; span=(136, 137), match='5'>\n",
      "<re.Match object; span=(137, 138), match='4'>\n",
      "<re.Match object; span=(139, 140), match='1'>\n",
      "<re.Match object; span=(140, 141), match='2'>\n",
      "<re.Match object; span=(141, 142), match='3'>\n",
      "<re.Match object; span=(143, 144), match='1'>\n",
      "<re.Match object; span=(144, 145), match='2'>\n",
      "<re.Match object; span=(145, 146), match='4'>\n",
      "<re.Match object; span=(147, 148), match='1'>\n",
      "<re.Match object; span=(148, 149), match='2'>\n",
      "<re.Match object; span=(149, 150), match='3'>\n",
      "<re.Match object; span=(150, 151), match='_'>\n",
      "<re.Match object; span=(152, 153), match='3'>\n",
      "<re.Match object; span=(153, 154), match='3'>\n",
      "<re.Match object; span=(154, 155), match='2'>\n",
      "<re.Match object; span=(155, 156), match='4'>\n",
      "<re.Match object; span=(156, 157), match='3'>\n",
      "<re.Match object; span=(157, 158), match='4'>\n",
      "<re.Match object; span=(158, 159), match='4'>\n",
      "<re.Match object; span=(160, 161), match='c'>\n",
      "<re.Match object; span=(161, 162), match='o'>\n",
      "<re.Match object; span=(162, 163), match='r'>\n",
      "<re.Match object; span=(163, 164), match='e'>\n",
      "<re.Match object; span=(164, 165), match='y'>\n",
      "<re.Match object; span=(165, 166), match='m'>\n",
      "<re.Match object; span=(166, 167), match='s'>\n",
      "<re.Match object; span=(168, 169), match='c'>\n",
      "<re.Match object; span=(169, 170), match='o'>\n",
      "<re.Match object; span=(170, 171), match='m'>\n",
      "<re.Match object; span=(172, 173), match='c'>\n",
      "<re.Match object; span=(173, 174), match='o'>\n",
      "<re.Match object; span=(174, 175), match='r'>\n",
      "<re.Match object; span=(175, 176), match='e'>\n",
      "<re.Match object; span=(176, 177), match='y'>\n",
      "<re.Match object; span=(177, 178), match='m'>\n",
      "<re.Match object; span=(178, 179), match='s'>\n",
      "<re.Match object; span=(180, 181), match='c'>\n",
      "<re.Match object; span=(181, 182), match='o'>\n",
      "<re.Match object; span=(182, 183), match='m'>\n",
      "<re.Match object; span=(184, 185), match='1'>\n",
      "<re.Match object; span=(185, 186), match='2'>\n",
      "<re.Match object; span=(186, 187), match='3'>\n",
      "<re.Match object; span=(187, 188), match='4'>\n",
      "<re.Match object; span=(188, 189), match='5'>\n",
      "<re.Match object; span=(189, 190), match='6'>\n",
      "<re.Match object; span=(190, 191), match='7'>\n",
      "<re.Match object; span=(191, 192), match='8'>\n",
      "<re.Match object; span=(192, 193), match='9'>\n",
      "<re.Match object; span=(193, 194), match='0'>\n",
      "<re.Match object; span=(194, 195), match='1'>\n",
      "<re.Match object; span=(195, 196), match='2'>\n",
      "<re.Match object; span=(197, 198), match='1'>\n",
      "<re.Match object; span=(198, 199), match='2'>\n",
      "<re.Match object; span=(199, 200), match='3'>\n",
      "<re.Match object; span=(201, 202), match='1'>\n",
      "<re.Match object; span=(202, 203), match='2'>\n",
      "<re.Match object; span=(203, 204), match='3'>\n",
      "<re.Match object; span=(205, 206), match='1'>\n",
      "<re.Match object; span=(206, 207), match='2'>\n",
      "<re.Match object; span=(207, 208), match='3'>\n",
      "<re.Match object; span=(208, 209), match='4'>\n",
      "<re.Match object; span=(210, 211), match='0'>\n",
      "<re.Match object; span=(211, 212), match='1'>\n",
      "<re.Match object; span=(212, 213), match='2'>\n",
      "<re.Match object; span=(213, 214), match='2'>\n",
      "<re.Match object; span=(214, 215), match='3'>\n",
      "<re.Match object; span=(215, 216), match='4'>\n",
      "<re.Match object; span=(216, 217), match='5'>\n",
      "<re.Match object; span=(217, 218), match='6'>\n",
      "<re.Match object; span=(218, 219), match='7'>\n",
      "<re.Match object; span=(219, 220), match='8'>\n",
      "<re.Match object; span=(220, 221), match='9'>\n",
      "<re.Match object; span=(222, 223), match='0'>\n",
      "<re.Match object; span=(223, 224), match='1'>\n",
      "<re.Match object; span=(224, 225), match='2'>\n",
      "<re.Match object; span=(225, 226), match='1'>\n",
      "<re.Match object; span=(226, 227), match='2'>\n",
      "<re.Match object; span=(227, 228), match='1'>\n",
      "<re.Match object; span=(228, 229), match='1'>\n",
      "<re.Match object; span=(229, 230), match='1'>\n",
      "<re.Match object; span=(230, 231), match='2'>\n",
      "<re.Match object; span=(231, 232), match='2'>\n",
      "<re.Match object; span=(232, 233), match='1'>\n",
      "<re.Match object; span=(234, 235), match='0'>\n",
      "<re.Match object; span=(235, 236), match='1'>\n",
      "<re.Match object; span=(236, 237), match='5'>\n",
      "<re.Match object; span=(237, 238), match='2'>\n",
      "<re.Match object; span=(238, 239), match='3'>\n",
      "<re.Match object; span=(239, 240), match='5'>\n",
      "<re.Match object; span=(240, 241), match='3'>\n",
      "<re.Match object; span=(241, 242), match='2'>\n",
      "<re.Match object; span=(242, 243), match='3'>\n",
      "<re.Match object; span=(243, 244), match='4'>\n",
      "<re.Match object; span=(244, 245), match='2'>\n",
      "<re.Match object; span=(246, 247), match='0'>\n",
      "<re.Match object; span=(247, 248), match='1'>\n",
      "<re.Match object; span=(248, 249), match='0'>\n",
      "<re.Match object; span=(249, 250), match='2'>\n",
      "<re.Match object; span=(250, 251), match='3'>\n",
      "<re.Match object; span=(251, 252), match='3'>\n",
      "<re.Match object; span=(252, 253), match='3'>\n",
      "<re.Match object; span=(253, 254), match='9'>\n",
      "<re.Match object; span=(254, 255), match='4'>\n",
      "<re.Match object; span=(255, 256), match='5'>\n",
      "<re.Match object; span=(256, 257), match='5'>\n",
      "<re.Match object; span=(258, 259), match='0'>\n",
      "<re.Match object; span=(259, 260), match='1'>\n",
      "<re.Match object; span=(260, 261), match='1'>\n",
      "<re.Match object; span=(261, 262), match='2'>\n",
      "<re.Match object; span=(262, 263), match='0'>\n",
      "<re.Match object; span=(263, 264), match='5'>\n",
      "<re.Match object; span=(264, 265), match='5'>\n",
      "<re.Match object; span=(265, 266), match='5'>\n",
      "<re.Match object; span=(266, 267), match='2'>\n",
      "<re.Match object; span=(267, 268), match='4'>\n",
      "<re.Match object; span=(268, 269), match='4'>\n",
      "<re.Match object; span=(270, 271), match='M'>\n",
      "<re.Match object; span=(271, 272), match='r'>\n",
      "<re.Match object; span=(274, 275), match='A'>\n",
      "<re.Match object; span=(275, 276), match='h'>\n",
      "<re.Match object; span=(276, 277), match='m'>\n",
      "<re.Match object; span=(277, 278), match='e'>\n",
      "<re.Match object; span=(278, 279), match='d'>\n",
      "<re.Match object; span=(281, 282), match='M'>\n",
      "<re.Match object; span=(282, 283), match='r'>\n",
      "<re.Match object; span=(283, 284), match='s'>\n",
      "<re.Match object; span=(286, 287), match='n'>\n",
      "<re.Match object; span=(287, 288), match='a'>\n",
      "<re.Match object; span=(288, 289), match='d'>\n",
      "<re.Match object; span=(289, 290), match='a'>\n",
      "<re.Match object; span=(291, 292), match='M'>\n",
      "<re.Match object; span=(292, 293), match='r'>\n",
      "<re.Match object; span=(295, 296), match='s'>\n",
      "<re.Match object; span=(296, 297), match='a'>\n",
      "<re.Match object; span=(297, 298), match='m'>\n",
      "<re.Match object; span=(298, 299), match='e'>\n",
      "<re.Match object; span=(299, 300), match='h'>\n"
     ]
    }
   ],
   "source": [
    "pattern=re.compile(\"\\w\") #search for lower case or upper case or digit or _\n",
    "matches=pattern.finditer(text_to_search) # store in this string\n",
    "for i in matches:\n",
    "    print(i)"
   ]
  },
  {
   "cell_type": "code",
   "execution_count": 28,
   "id": "5e7226d4",
   "metadata": {},
   "outputs": [
    {
     "name": "stdout",
     "output_type": "stream",
     "text": [
      "<re.Match object; span=(25, 26), match='\\n'>\n",
      "<re.Match object; span=(50, 51), match='\\n'>\n",
      "<re.Match object; span=(60, 61), match='\\n'>\n",
      "<re.Match object; span=(63, 64), match=' '>\n",
      "<re.Match object; span=(68, 69), match='\\n'>\n",
      "<re.Match object; span=(69, 70), match='#'>\n",
      "<re.Match object; span=(70, 71), match=' '>\n",
      "<re.Match object; span=(71, 72), match='$'>\n",
      "<re.Match object; span=(72, 73), match=' '>\n",
      "<re.Match object; span=(73, 74), match='%'>\n",
      "<re.Match object; span=(74, 75), match=' '>\n",
      "<re.Match object; span=(75, 76), match='^'>\n",
      "<re.Match object; span=(76, 77), match=' '>\n",
      "<re.Match object; span=(77, 78), match='&'>\n",
      "<re.Match object; span=(78, 79), match=' '>\n",
      "<re.Match object; span=(79, 80), match='*'>\n",
      "<re.Match object; span=(80, 81), match=' '>\n",
      "<re.Match object; span=(81, 82), match='('>\n",
      "<re.Match object; span=(82, 83), match=' '>\n",
      "<re.Match object; span=(83, 84), match=')'>\n",
      "<re.Match object; span=(84, 85), match=' '>\n",
      "<re.Match object; span=(86, 87), match=' '>\n",
      "<re.Match object; span=(87, 88), match='+'>\n",
      "<re.Match object; span=(88, 89), match=' '>\n",
      "<re.Match object; span=(89, 90), match='{'>\n",
      "<re.Match object; span=(90, 91), match=' '>\n",
      "<re.Match object; span=(91, 92), match='}'>\n",
      "<re.Match object; span=(92, 93), match='['>\n",
      "<re.Match object; span=(93, 94), match=' '>\n",
      "<re.Match object; span=(94, 95), match=']'>\n",
      "<re.Match object; span=(95, 96), match='\\n'>\n",
      "<re.Match object; span=(99, 100), match='\\n'>\n",
      "<re.Match object; span=(103, 104), match='\\n'>\n",
      "<re.Match object; span=(107, 108), match='\\n'>\n",
      "<re.Match object; span=(111, 112), match='\\n'>\n",
      "<re.Match object; span=(115, 116), match='\\n'>\n",
      "<re.Match object; span=(121, 122), match='\\n'>\n",
      "<re.Match object; span=(126, 127), match='\\n'>\n",
      "<re.Match object; span=(132, 133), match='\\n'>\n",
      "<re.Match object; span=(138, 139), match='\\n'>\n",
      "<re.Match object; span=(142, 143), match='.'>\n",
      "<re.Match object; span=(146, 147), match='#'>\n",
      "<re.Match object; span=(151, 152), match='\\n'>\n",
      "<re.Match object; span=(159, 160), match='\\n'>\n",
      "<re.Match object; span=(167, 168), match='.'>\n",
      "<re.Match object; span=(171, 172), match='\\n'>\n",
      "<re.Match object; span=(179, 180), match='-'>\n",
      "<re.Match object; span=(183, 184), match='\\n'>\n",
      "<re.Match object; span=(196, 197), match='\\n'>\n",
      "<re.Match object; span=(200, 201), match='#'>\n",
      "<re.Match object; span=(204, 205), match='%'>\n",
      "<re.Match object; span=(209, 210), match='\\n'>\n",
      "<re.Match object; span=(221, 222), match='\\n'>\n",
      "<re.Match object; span=(233, 234), match='\\n'>\n",
      "<re.Match object; span=(245, 246), match='\\n'>\n",
      "<re.Match object; span=(257, 258), match='\\n'>\n",
      "<re.Match object; span=(269, 270), match='\\n'>\n",
      "<re.Match object; span=(272, 273), match='.'>\n",
      "<re.Match object; span=(273, 274), match=' '>\n",
      "<re.Match object; span=(279, 280), match=' '>\n",
      "<re.Match object; span=(280, 281), match='\\n'>\n",
      "<re.Match object; span=(284, 285), match='.'>\n",
      "<re.Match object; span=(285, 286), match=' '>\n",
      "<re.Match object; span=(290, 291), match='\\n'>\n",
      "<re.Match object; span=(293, 294), match='.'>\n",
      "<re.Match object; span=(294, 295), match=' '>\n",
      "<re.Match object; span=(300, 301), match='\\n'>\n"
     ]
    }
   ],
   "source": [
    "pattern=re.compile(\"\\W\") #search for ay 7aga 8er bto3 el \\w\n",
    "matches=pattern.finditer(text_to_search) # store in this string\n",
    "for i in matches:\n",
    "    print(i)"
   ]
  },
  {
   "cell_type": "code",
   "execution_count": 29,
   "id": "31d29630",
   "metadata": {},
   "outputs": [],
   "source": [
    "string =\"Ahmed Ali Mohamed Omar Fady Anas Shady Hady Amir Aser\""
   ]
  },
  {
   "cell_type": "code",
   "execution_count": 30,
   "id": "51e9ec6b",
   "metadata": {},
   "outputs": [
    {
     "name": "stdout",
     "output_type": "stream",
     "text": [
      "<re.Match object; span=(0, 5), match='Ahmed'>\n",
      "<re.Match object; span=(6, 9), match='Ali'>\n",
      "<re.Match object; span=(28, 32), match='Anas'>\n",
      "<re.Match object; span=(44, 48), match='Amir'>\n",
      "<re.Match object; span=(49, 53), match='Aser'>\n"
     ]
    }
   ],
   "source": [
    "pattern=re.compile(\"A\\w+\") #search for string\n",
    "matches=pattern.finditer(string) # store in this string\n",
    "for i in matches:\n",
    "    print(i)"
   ]
  },
  {
   "cell_type": "code",
   "execution_count": 31,
   "id": "a61138b9",
   "metadata": {},
   "outputs": [],
   "source": [
    "emails='''CoreyMSchafer@gmail.com\n",
    "corey.schafer@university.edu\n",
    "corey-321-schafer@my-work.net'''"
   ]
  },
  {
   "cell_type": "code",
   "execution_count": 32,
   "id": "65fd920d",
   "metadata": {},
   "outputs": [
    {
     "name": "stdout",
     "output_type": "stream",
     "text": [
      "<re.Match object; span=(0, 23), match='CoreyMSchafer@gmail.com'>\n",
      "<re.Match object; span=(24, 52), match='corey.schafer@university.edu'>\n"
     ]
    }
   ],
   "source": [
    "pattern=re.compile(r'[a-zA-Z0-9-.]+@[a-zA-Z]+\\.[a-zA-Z0-9-.]+') #search for string\n",
    "matches=pattern.finditer(emails) # store in this string\n",
    "for i in matches:\n",
    "    print(i)"
   ]
  },
  {
   "cell_type": "code",
   "execution_count": null,
   "id": "743acdbd",
   "metadata": {},
   "outputs": [],
   "source": []
  },
  {
   "cell_type": "markdown",
   "id": "28996c32",
   "metadata": {},
   "source": [
    "# Task1"
   ]
  },
  {
   "cell_type": "raw",
   "id": "efac8805",
   "metadata": {},
   "source": [
    "add this text in text file\n",
    "\n",
    "Ahmed, 012345678, Ahmed@gmail.com\n",
    "\n",
    "and read this file using python\n",
    "then use reguler expression to add this details in this lists\n",
    "names=[]\n",
    "phones=[]\n",
    "mails=[]"
   ]
  },
  {
   "cell_type": "code",
   "execution_count": null,
   "id": "7e24cd84",
   "metadata": {},
   "outputs": [],
   "source": []
  }
 ],
 "metadata": {
  "kernelspec": {
   "display_name": "Python 3 (ipykernel)",
   "language": "python",
   "name": "python3"
  },
  "language_info": {
   "codemirror_mode": {
    "name": "ipython",
    "version": 3
   },
   "file_extension": ".py",
   "mimetype": "text/x-python",
   "name": "python",
   "nbconvert_exporter": "python",
   "pygments_lexer": "ipython3",
   "version": "3.9.12"
  }
 },
 "nbformat": 4,
 "nbformat_minor": 5
}
